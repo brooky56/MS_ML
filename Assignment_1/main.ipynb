{
  "nbformat": 4,
  "nbformat_minor": 0,
  "metadata": {
    "colab": {
      "name": "Assigment#1.ipynb",
      "provenance": [],
      "collapsed_sections": []
    },
    "kernelspec": {
      "name": "python3",
      "display_name": "Python 3"
    },
    "language_info": {
      "name": "python"
    }
  },
  "cells": [
    {
      "cell_type": "code",
      "metadata": {
        "id": "1cwmJ-8pSFPX"
      },
      "source": [
        "import datetime, warnings, scipy \n",
        "import pandas as pd\n",
        "import numpy as np\n",
        "import seaborn as sns\n",
        "import matplotlib.pyplot as plt\n",
        "import matplotlib.patches as patches\n",
        "from sklearn import metrics, linear_model\n",
        "from sklearn.metrics import r2_score\n",
        "from sklearn.preprocessing import PolynomialFeatures, StandardScaler\n",
        "from sklearn.preprocessing import LabelEncoder, OneHotEncoder\n",
        "from sklearn.model_selection import train_test_split, cross_val_score, cross_val_predict\n",
        "from scipy.optimize import curve_fit\n",
        "\n",
        "%matplotlib inline\n",
        "warnings.filterwarnings(\"ignore\")"
      ],
      "execution_count": 121,
      "outputs": []
    },
    {
      "cell_type": "code",
      "metadata": {
        "colab": {
          "base_uri": "https://localhost:8080/",
          "height": 158
        },
        "id": "WMrTm5uuZO0F",
        "outputId": "6ce4044e-dd4c-41f9-db61-49f6a72e6646"
      },
      "source": [
        "df = pd.read_csv('./flight_delay.csv', low_memory=False)\n",
        "print('Dataframe dimensions:', df.shape)\n",
        "\n",
        "def df_info(df):\n",
        "  tab_info=pd.DataFrame(df.dtypes).T.rename(index={0:'column type'})\n",
        "  tab_info=tab_info.append(pd.DataFrame(df.isnull().sum()).T.rename(index={0:'null values (nb)'}))\n",
        "  tab_info=tab_info.append(pd.DataFrame(df.isnull().sum()/df.shape[0]*100)\n",
        "                         .T.rename(index={0:'null values (%)'}))\n",
        "  return tab_info\n",
        "\n",
        "df_info(df)"
      ],
      "execution_count": 28,
      "outputs": [
        {
          "output_type": "stream",
          "name": "stdout",
          "text": [
            "Dataframe dimensions: (675513, 5)\n"
          ]
        },
        {
          "output_type": "execute_result",
          "data": {
            "text/html": [
              "<div>\n",
              "<style scoped>\n",
              "    .dataframe tbody tr th:only-of-type {\n",
              "        vertical-align: middle;\n",
              "    }\n",
              "\n",
              "    .dataframe tbody tr th {\n",
              "        vertical-align: top;\n",
              "    }\n",
              "\n",
              "    .dataframe thead th {\n",
              "        text-align: right;\n",
              "    }\n",
              "</style>\n",
              "<table border=\"1\" class=\"dataframe\">\n",
              "  <thead>\n",
              "    <tr style=\"text-align: right;\">\n",
              "      <th></th>\n",
              "      <th>Depature Airport</th>\n",
              "      <th>Scheduled depature time</th>\n",
              "      <th>Destination Airport</th>\n",
              "      <th>Scheduled arrival time</th>\n",
              "      <th>Delay</th>\n",
              "    </tr>\n",
              "  </thead>\n",
              "  <tbody>\n",
              "    <tr>\n",
              "      <th>column type</th>\n",
              "      <td>object</td>\n",
              "      <td>object</td>\n",
              "      <td>object</td>\n",
              "      <td>object</td>\n",
              "      <td>float64</td>\n",
              "    </tr>\n",
              "    <tr>\n",
              "      <th>null values (nb)</th>\n",
              "      <td>0</td>\n",
              "      <td>0</td>\n",
              "      <td>0</td>\n",
              "      <td>0</td>\n",
              "      <td>0</td>\n",
              "    </tr>\n",
              "    <tr>\n",
              "      <th>null values (%)</th>\n",
              "      <td>0</td>\n",
              "      <td>0</td>\n",
              "      <td>0</td>\n",
              "      <td>0</td>\n",
              "      <td>0</td>\n",
              "    </tr>\n",
              "  </tbody>\n",
              "</table>\n",
              "</div>"
            ],
            "text/plain": [
              "                 Depature Airport  ...    Delay\n",
              "column type                object  ...  float64\n",
              "null values (nb)                0  ...        0\n",
              "null values (%)                 0  ...        0\n",
              "\n",
              "[3 rows x 5 columns]"
            ]
          },
          "metadata": {},
          "execution_count": 28
        }
      ]
    },
    {
      "cell_type": "code",
      "metadata": {
        "colab": {
          "base_uri": "https://localhost:8080/"
        },
        "id": "lCCrTIwqJZdf",
        "outputId": "fbc2921e-f5b7-447d-a700-d8d3795f1b1e"
      },
      "source": [
        "zero_delay_whole_dataset = (df['Delay']==0).sum()\n",
        "print(zero_delay_whole_dataset)\n",
        "print(f\"% of zero delays in dataset: {zero_delay_whole_dataset/df.shape[0]*100})\")"
      ],
      "execution_count": 29,
      "outputs": [
        {
          "output_type": "stream",
          "name": "stdout",
          "text": [
            "391070\n",
            "% of zero delays in dataset: 57.892298149702526)\n"
          ]
        }
      ]
    },
    {
      "cell_type": "markdown",
      "metadata": {
        "id": "sNcUtFvJ-tJr"
      },
      "source": [
        "**Add additional feature - Duration of the flight in minutes & Delayed Fact**"
      ]
    },
    {
      "cell_type": "code",
      "metadata": {
        "id": "3Xk4LblGbmZU"
      },
      "source": [
        "flight_duration = pd.to_datetime(df['Scheduled arrival time']) - pd.to_datetime(df['Scheduled depature time'])\n",
        "flight_duration = pd.to_timedelta(flight_duration).astype('timedelta64[m]').astype(int)"
      ],
      "execution_count": 30,
      "outputs": []
    },
    {
      "cell_type": "code",
      "metadata": {
        "colab": {
          "base_uri": "https://localhost:8080/"
        },
        "id": "rxeQYAAMEMU2",
        "outputId": "28d12789-ec4d-4910-efb8-6d9dea073ca1"
      },
      "source": [
        "df.info()"
      ],
      "execution_count": 31,
      "outputs": [
        {
          "output_type": "stream",
          "name": "stdout",
          "text": [
            "<class 'pandas.core.frame.DataFrame'>\n",
            "RangeIndex: 675513 entries, 0 to 675512\n",
            "Data columns (total 5 columns):\n",
            " #   Column                   Non-Null Count   Dtype  \n",
            "---  ------                   --------------   -----  \n",
            " 0   Depature Airport         675513 non-null  object \n",
            " 1   Scheduled depature time  675513 non-null  object \n",
            " 2   Destination Airport      675513 non-null  object \n",
            " 3   Scheduled arrival time   675513 non-null  object \n",
            " 4   Delay                    675513 non-null  float64\n",
            "dtypes: float64(1), object(4)\n",
            "memory usage: 25.8+ MB\n"
          ]
        }
      ]
    },
    {
      "cell_type": "code",
      "metadata": {
        "id": "RWc21DaZfzML"
      },
      "source": [
        "# Preprocessing data\n",
        "df['Duration'] = flight_duration\n",
        "df['Year'] = pd.DatetimeIndex(df['Scheduled depature time']).year\n",
        "df['Month'] = pd.DatetimeIndex(df['Scheduled depature time']).month\n",
        "df['Day'] = pd.DatetimeIndex(df['Scheduled depature time']).day\n",
        "df['Scheduled depature time'] = pd.to_datetime(df['Scheduled depature time'])\n",
        "df['Scheduled arrival time'] = pd.to_datetime(df['Scheduled arrival time'])\n",
        "df['Depature Airport'] = df['Depature Airport'].astype(\"category\")\n",
        "df['Destination Airport'] = df['Destination Airport'].astype(\"category\")\n",
        "df['Departure time'] = df['Scheduled depature time'].dt.time\n",
        "df['IS_delay'] = (df['Delay'] > 0).astype('int')"
      ],
      "execution_count": 32,
      "outputs": []
    },
    {
      "cell_type": "code",
      "metadata": {
        "colab": {
          "base_uri": "https://localhost:8080/",
          "height": 540
        },
        "id": "kqJQoyNlbom5",
        "outputId": "7eab4066-dc6c-4b3b-a9d8-064e65cfe741"
      },
      "source": [
        "print(df.info())\n",
        "df.head()"
      ],
      "execution_count": 33,
      "outputs": [
        {
          "output_type": "stream",
          "name": "stdout",
          "text": [
            "<class 'pandas.core.frame.DataFrame'>\n",
            "RangeIndex: 675513 entries, 0 to 675512\n",
            "Data columns (total 11 columns):\n",
            " #   Column                   Non-Null Count   Dtype         \n",
            "---  ------                   --------------   -----         \n",
            " 0   Depature Airport         675513 non-null  category      \n",
            " 1   Scheduled depature time  675513 non-null  datetime64[ns]\n",
            " 2   Destination Airport      675513 non-null  category      \n",
            " 3   Scheduled arrival time   675513 non-null  datetime64[ns]\n",
            " 4   Delay                    675513 non-null  float64       \n",
            " 5   Duration                 675513 non-null  int64         \n",
            " 6   Year                     675513 non-null  int64         \n",
            " 7   Month                    675513 non-null  int64         \n",
            " 8   Day                      675513 non-null  int64         \n",
            " 9   Departure time           675513 non-null  object        \n",
            " 10  IS_delay                 675513 non-null  int64         \n",
            "dtypes: category(2), datetime64[ns](2), float64(1), int64(5), object(1)\n",
            "memory usage: 49.0+ MB\n",
            "None\n"
          ]
        },
        {
          "output_type": "execute_result",
          "data": {
            "text/html": [
              "<div>\n",
              "<style scoped>\n",
              "    .dataframe tbody tr th:only-of-type {\n",
              "        vertical-align: middle;\n",
              "    }\n",
              "\n",
              "    .dataframe tbody tr th {\n",
              "        vertical-align: top;\n",
              "    }\n",
              "\n",
              "    .dataframe thead th {\n",
              "        text-align: right;\n",
              "    }\n",
              "</style>\n",
              "<table border=\"1\" class=\"dataframe\">\n",
              "  <thead>\n",
              "    <tr style=\"text-align: right;\">\n",
              "      <th></th>\n",
              "      <th>Depature Airport</th>\n",
              "      <th>Scheduled depature time</th>\n",
              "      <th>Destination Airport</th>\n",
              "      <th>Scheduled arrival time</th>\n",
              "      <th>Delay</th>\n",
              "      <th>Duration</th>\n",
              "      <th>Year</th>\n",
              "      <th>Month</th>\n",
              "      <th>Day</th>\n",
              "      <th>Departure time</th>\n",
              "      <th>IS_delay</th>\n",
              "    </tr>\n",
              "  </thead>\n",
              "  <tbody>\n",
              "    <tr>\n",
              "      <th>0</th>\n",
              "      <td>SVO</td>\n",
              "      <td>2015-10-27 07:40:00</td>\n",
              "      <td>HAV</td>\n",
              "      <td>2015-10-27 20:45:00</td>\n",
              "      <td>0.0</td>\n",
              "      <td>785</td>\n",
              "      <td>2015</td>\n",
              "      <td>10</td>\n",
              "      <td>27</td>\n",
              "      <td>07:40:00</td>\n",
              "      <td>0</td>\n",
              "    </tr>\n",
              "    <tr>\n",
              "      <th>1</th>\n",
              "      <td>SVO</td>\n",
              "      <td>2015-10-27 09:50:00</td>\n",
              "      <td>JFK</td>\n",
              "      <td>2015-10-27 20:35:00</td>\n",
              "      <td>2.0</td>\n",
              "      <td>645</td>\n",
              "      <td>2015</td>\n",
              "      <td>10</td>\n",
              "      <td>27</td>\n",
              "      <td>09:50:00</td>\n",
              "      <td>1</td>\n",
              "    </tr>\n",
              "    <tr>\n",
              "      <th>2</th>\n",
              "      <td>SVO</td>\n",
              "      <td>2015-10-27 10:45:00</td>\n",
              "      <td>MIA</td>\n",
              "      <td>2015-10-27 23:35:00</td>\n",
              "      <td>0.0</td>\n",
              "      <td>770</td>\n",
              "      <td>2015</td>\n",
              "      <td>10</td>\n",
              "      <td>27</td>\n",
              "      <td>10:45:00</td>\n",
              "      <td>0</td>\n",
              "    </tr>\n",
              "    <tr>\n",
              "      <th>3</th>\n",
              "      <td>SVO</td>\n",
              "      <td>2015-10-27 12:30:00</td>\n",
              "      <td>LAX</td>\n",
              "      <td>2015-10-28 01:20:00</td>\n",
              "      <td>0.0</td>\n",
              "      <td>770</td>\n",
              "      <td>2015</td>\n",
              "      <td>10</td>\n",
              "      <td>27</td>\n",
              "      <td>12:30:00</td>\n",
              "      <td>0</td>\n",
              "    </tr>\n",
              "    <tr>\n",
              "      <th>4</th>\n",
              "      <td>OTP</td>\n",
              "      <td>2015-10-27 14:15:00</td>\n",
              "      <td>SVO</td>\n",
              "      <td>2015-10-27 16:40:00</td>\n",
              "      <td>9.0</td>\n",
              "      <td>145</td>\n",
              "      <td>2015</td>\n",
              "      <td>10</td>\n",
              "      <td>27</td>\n",
              "      <td>14:15:00</td>\n",
              "      <td>1</td>\n",
              "    </tr>\n",
              "  </tbody>\n",
              "</table>\n",
              "</div>"
            ],
            "text/plain": [
              "  Depature Airport Scheduled depature time  ... Departure time IS_delay\n",
              "0              SVO     2015-10-27 07:40:00  ...       07:40:00        0\n",
              "1              SVO     2015-10-27 09:50:00  ...       09:50:00        1\n",
              "2              SVO     2015-10-27 10:45:00  ...       10:45:00        0\n",
              "3              SVO     2015-10-27 12:30:00  ...       12:30:00        0\n",
              "4              OTP     2015-10-27 14:15:00  ...       14:15:00        1\n",
              "\n",
              "[5 rows x 11 columns]"
            ]
          },
          "metadata": {},
          "execution_count": 33
        }
      ]
    },
    {
      "cell_type": "markdown",
      "metadata": {
        "id": "W-Y4AgE-E7ZE"
      },
      "source": [
        "**Visualization**"
      ]
    },
    {
      "cell_type": "markdown",
      "metadata": {
        "id": "MI8R1plx-3qr"
      },
      "source": [
        "**Missing Values**\n",
        "\n",
        "Now we will check the missing values of the dataset to detect unusable features and when and how are the rest of the missing values meaningful."
      ]
    },
    {
      "cell_type": "code",
      "metadata": {
        "id": "y8FZrLKafEPX"
      },
      "source": [
        "def missing_values_checker(dataframe):\n",
        "  sums = dataframe.isna().sum(axis=0)\n",
        "  nan_count_limit = 0\n",
        "  # crate tuples (nan_sum, column_name), filter it and sort it\n",
        "  non_zero_pairs = sorted([pair for pair in zip(sums, dataframe.columns) if pair[0] > nan_count_limit])\n",
        "  non_zero_pairs.append((len(dataframe), 'TOTAL'))\n",
        "\n",
        "  # split tuples into separate lists\n",
        "  non_zero_sums, non_zero_labels = zip(*non_zero_pairs)\n",
        "  nans_range = np.asarray(range(len(non_zero_sums)))\n",
        "\n",
        "  # print info\n",
        "  for i, (non_zero_sum, non_zero_label) in enumerate(non_zero_pairs):\n",
        "      print('{}, {}: {}'.format(i, non_zero_label, non_zero_sum))\n",
        "\n",
        "  # plot info\n",
        "  plt.figure()\n",
        "  ax = plt.gca()\n",
        "\n",
        "  ax.set_xticks(nans_range)\n",
        "  # ax.set_xticklabels(non_zero_labels)    # set column names in X ticks\n",
        "  plt.bar(nans_range, non_zero_sums)\n",
        "  plt.show()"
      ],
      "execution_count": 34,
      "outputs": []
    },
    {
      "cell_type": "code",
      "metadata": {
        "colab": {
          "base_uri": "https://localhost:8080/"
        },
        "id": "8j2Gwwv8HnzJ",
        "outputId": "792755f7-62ad-4583-f39d-fab728bca1b2"
      },
      "source": [
        "feature_dist = df['Depature Airport'].value_counts()\n",
        "print(feature_dist)"
      ],
      "execution_count": 35,
      "outputs": [
        {
          "output_type": "stream",
          "name": "stdout",
          "text": [
            "SVO    336929\n",
            "LED     19429\n",
            "AER      9080\n",
            "SIP      7907\n",
            "SVX      7757\n",
            "        ...  \n",
            "VST         1\n",
            "BSL         1\n",
            "NUE         1\n",
            "TLS         1\n",
            "SZG         1\n",
            "Name: Depature Airport, Length: 179, dtype: int64\n"
          ]
        }
      ]
    },
    {
      "cell_type": "code",
      "metadata": {
        "colab": {
          "base_uri": "https://localhost:8080/"
        },
        "id": "rKXVQ2L2IFjh",
        "outputId": "f8a89d25-79f1-4163-fc23-02a69363f388"
      },
      "source": [
        "feature_dist.count()"
      ],
      "execution_count": 36,
      "outputs": [
        {
          "output_type": "execute_result",
          "data": {
            "text/plain": [
              "179"
            ]
          },
          "metadata": {},
          "execution_count": 36
        }
      ]
    },
    {
      "cell_type": "code",
      "metadata": {
        "id": "2XUyi05oIVM5"
      },
      "source": [
        "import seaborn as sns\n",
        "def check_feature_dist(feature_name,data_frame):\n",
        "  carrier_count = data_frame[f\"{feature_name}\"].value_counts()\n",
        "  sns.set(style=\"darkgrid\")\n",
        "  sns.barplot(carrier_count.index, carrier_count.values, alpha=0.9)\n",
        "  plt.title(f'Frequency Distribution of {feature_name}')\n",
        "  plt.ylabel('Number of Occurrences', fontsize=12)\n",
        "  plt.xlabel(f'{feature_name}', fontsize=12)\n",
        "  plt.show()"
      ],
      "execution_count": 37,
      "outputs": []
    },
    {
      "cell_type": "code",
      "metadata": {
        "colab": {
          "base_uri": "https://localhost:8080/",
          "height": 698
        },
        "id": "Mzp1xI71j_MI",
        "outputId": "a27137b3-57f9-4dce-e07a-c86d938bbedd"
      },
      "source": [
        "def func(x, a, b):\n",
        "    return a * np.exp(-x/b)\n",
        "\n",
        "fig = plt.figure(figsize=(10,10))\n",
        "n, bins, patches = plt.hist(x = df[df['Depature Airport']==\"SVO\"]['Delay'], range = (15,180), bins= 60)\n",
        "bin_centers = bins[:-1] + 0.5 * (bins[1:] - bins[:-1])    \n",
        "popt, pcov = curve_fit(func, bin_centers, n, p0 = [1, 2])\n",
        "# draw the fit curve\n",
        "fig.suptitle('Delays to flig counts for SVO', fontsize=16)\n",
        "plt.plot(bin_centers, func(bin_centers, *popt), 'r-', linewidth=3, label=\"fit curve\")\n",
        "plt.xlabel('Delays', fontsize = 14)\n",
        "plt.ylabel('Flight counts', fontsize = 14)"
      ],
      "execution_count": 38,
      "outputs": [
        {
          "output_type": "execute_result",
          "data": {
            "text/plain": [
              "Text(0, 0.5, 'Flight counts')"
            ]
          },
          "metadata": {},
          "execution_count": 38
        },
        {
          "output_type": "display_data",
          "data": {
            "image/png": "[encoded data removed]",
            "text/plain": [
              "<Figure size 720x720 with 1 Axes>"
            ]
          },
          "metadata": {
            "needs_background": "light"
          }
        }
      ]
    },
    {
      "cell_type": "markdown",
      "metadata": {
        "id": "-iQd3yNvKwnC"
      },
      "source": [
        "**Label encoding**"
      ]
    },
    {
      "cell_type": "code",
      "metadata": {
        "colab": {
          "base_uri": "https://localhost:8080/"
        },
        "id": "OquDrqs_PjRn",
        "outputId": "94b7e2fc-2a2c-4db4-ab1d-39c8ad3d5265"
      },
      "source": [
        "list_categorical_features = df.select_dtypes(include=['object']).columns.to_list()\n",
        "list_categorical_features.append('Depature Airport')\n",
        "list_categorical_features.append('Destination Airport')\n",
        "list_categorical_features"
      ],
      "execution_count": 39,
      "outputs": [
        {
          "output_type": "execute_result",
          "data": {
            "text/plain": [
              "['Departure time', 'Depature Airport', 'Destination Airport']"
            ]
          },
          "metadata": {},
          "execution_count": 39
        }
      ]
    },
    {
      "cell_type": "code",
      "metadata": {
        "id": "t3keOV4BKdSr"
      },
      "source": [
        "labels_airport = df['Depature Airport']\n",
        "lb_make = LabelEncoder()\n",
        "integer_encoded = lb_make.fit_transform(df['Depature Airport'])\n",
        "zipped = zip(integer_encoded, df['Depature Airport'])\n",
        "label_airports = list(set(list(zipped)))\n",
        "label_airports.sort(key = lambda x:x[0])\n",
        "\n",
        "onehot_encoder = OneHotEncoder(sparse=False)\n",
        "integer_encoded = integer_encoded.reshape(len(integer_encoded), 1)\n",
        "onehot_encoded = onehot_encoder.fit_transform(integer_encoded)"
      ],
      "execution_count": 41,
      "outputs": []
    },
    {
      "cell_type": "code",
      "metadata": {
        "colab": {
          "base_uri": "https://localhost:8080/",
          "height": 704
        },
        "id": "B0Z2q6glKvqY",
        "outputId": "da083b2a-eb4e-4b8b-c7cd-336702c30f08"
      },
      "source": [
        "correlations = df.corr()\n",
        "plt.figure(figsize=(12,12))\n",
        "sns.heatmap(correlations, center=0, annot=True, vmin=-1, vmax=1, cmap=\"BrBG\")\n",
        "plt.show()"
      ],
      "execution_count": 42,
      "outputs": [
        {
          "output_type": "display_data",
          "data": {
            "image/png": "[encoded data removed]",
            "text/plain": [
              "<Figure size 864x864 with 2 Axes>"
            ]
          },
          "metadata": {
            "needs_background": "light"
          }
        }
      ]
    },
    {
      "cell_type": "code",
      "metadata": {
        "colab": {
          "base_uri": "https://localhost:8080/",
          "height": 532
        },
        "id": "_pBMoqqiRLKY",
        "outputId": "f65f58e6-beaa-4b0f-ab47-554df8fb26a8"
      },
      "source": [
        "# visualize the relationship between the features and the response using scatterplots\n",
        "pp = sns.pairplot(df, x_vars=['Duration'], y_vars='Delay', size=7, aspect=0.7)\n",
        "pp.fig.suptitle(\"Correlation between Duration and Delay\")"
      ],
      "execution_count": 43,
      "outputs": [
        {
          "output_type": "execute_result",
          "data": {
            "text/plain": [
              "Text(0.5, 0.98, 'Correlation between Duration and Delay')"
            ]
          },
          "metadata": {},
          "execution_count": 43
        },
        {
          "output_type": "display_data",
          "data": {
            "image/png": "[encoded data removed]",
            "text/plain": [
              "<Figure size 352.8x504 with 1 Axes>"
            ]
          },
          "metadata": {
            "needs_background": "light"
          }
        }
      ]
    },
    {
      "cell_type": "code",
      "metadata": {
        "id": "U_6hSSNDj-X5"
      },
      "source": [
        "df['DATE'] = pd.to_datetime(df[['Year','Month', 'Day']])"
      ],
      "execution_count": 45,
      "outputs": []
    },
    {
      "cell_type": "code",
      "metadata": {
        "colab": {
          "base_uri": "https://localhost:8080/",
          "height": 202
        },
        "id": "BTHTN7CXvnep",
        "outputId": "d3fb6719-9749-4538-a0c0-a2bfbe3e04ec"
      },
      "source": [
        "df.head()"
      ],
      "execution_count": 46,
      "outputs": [
        {
          "output_type": "execute_result",
          "data": {
            "text/html": [
              "<div>\n",
              "<style scoped>\n",
              "    .dataframe tbody tr th:only-of-type {\n",
              "        vertical-align: middle;\n",
              "    }\n",
              "\n",
              "    .dataframe tbody tr th {\n",
              "        vertical-align: top;\n",
              "    }\n",
              "\n",
              "    .dataframe thead th {\n",
              "        text-align: right;\n",
              "    }\n",
              "</style>\n",
              "<table border=\"1\" class=\"dataframe\">\n",
              "  <thead>\n",
              "    <tr style=\"text-align: right;\">\n",
              "      <th></th>\n",
              "      <th>Depature Airport</th>\n",
              "      <th>Scheduled depature time</th>\n",
              "      <th>Destination Airport</th>\n",
              "      <th>Scheduled arrival time</th>\n",
              "      <th>Delay</th>\n",
              "      <th>Duration</th>\n",
              "      <th>Year</th>\n",
              "      <th>Month</th>\n",
              "      <th>Day</th>\n",
              "      <th>Departure time</th>\n",
              "      <th>IS_delay</th>\n",
              "      <th>DATE</th>\n",
              "    </tr>\n",
              "  </thead>\n",
              "  <tbody>\n",
              "    <tr>\n",
              "      <th>0</th>\n",
              "      <td>SVO</td>\n",
              "      <td>2015-10-27 07:40:00</td>\n",
              "      <td>HAV</td>\n",
              "      <td>2015-10-27 20:45:00</td>\n",
              "      <td>0.0</td>\n",
              "      <td>785</td>\n",
              "      <td>2015</td>\n",
              "      <td>10</td>\n",
              "      <td>27</td>\n",
              "      <td>07:40:00</td>\n",
              "      <td>0</td>\n",
              "      <td>2015-10-27</td>\n",
              "    </tr>\n",
              "    <tr>\n",
              "      <th>1</th>\n",
              "      <td>SVO</td>\n",
              "      <td>2015-10-27 09:50:00</td>\n",
              "      <td>JFK</td>\n",
              "      <td>2015-10-27 20:35:00</td>\n",
              "      <td>2.0</td>\n",
              "      <td>645</td>\n",
              "      <td>2015</td>\n",
              "      <td>10</td>\n",
              "      <td>27</td>\n",
              "      <td>09:50:00</td>\n",
              "      <td>1</td>\n",
              "      <td>2015-10-27</td>\n",
              "    </tr>\n",
              "    <tr>\n",
              "      <th>2</th>\n",
              "      <td>SVO</td>\n",
              "      <td>2015-10-27 10:45:00</td>\n",
              "      <td>MIA</td>\n",
              "      <td>2015-10-27 23:35:00</td>\n",
              "      <td>0.0</td>\n",
              "      <td>770</td>\n",
              "      <td>2015</td>\n",
              "      <td>10</td>\n",
              "      <td>27</td>\n",
              "      <td>10:45:00</td>\n",
              "      <td>0</td>\n",
              "      <td>2015-10-27</td>\n",
              "    </tr>\n",
              "    <tr>\n",
              "      <th>3</th>\n",
              "      <td>SVO</td>\n",
              "      <td>2015-10-27 12:30:00</td>\n",
              "      <td>LAX</td>\n",
              "      <td>2015-10-28 01:20:00</td>\n",
              "      <td>0.0</td>\n",
              "      <td>770</td>\n",
              "      <td>2015</td>\n",
              "      <td>10</td>\n",
              "      <td>27</td>\n",
              "      <td>12:30:00</td>\n",
              "      <td>0</td>\n",
              "      <td>2015-10-27</td>\n",
              "    </tr>\n",
              "    <tr>\n",
              "      <th>4</th>\n",
              "      <td>OTP</td>\n",
              "      <td>2015-10-27 14:15:00</td>\n",
              "      <td>SVO</td>\n",
              "      <td>2015-10-27 16:40:00</td>\n",
              "      <td>9.0</td>\n",
              "      <td>145</td>\n",
              "      <td>2015</td>\n",
              "      <td>10</td>\n",
              "      <td>27</td>\n",
              "      <td>14:15:00</td>\n",
              "      <td>1</td>\n",
              "      <td>2015-10-27</td>\n",
              "    </tr>\n",
              "  </tbody>\n",
              "</table>\n",
              "</div>"
            ],
            "text/plain": [
              "  Depature Airport Scheduled depature time  ... IS_delay       DATE\n",
              "0              SVO     2015-10-27 07:40:00  ...        0 2015-10-27\n",
              "1              SVO     2015-10-27 09:50:00  ...        1 2015-10-27\n",
              "2              SVO     2015-10-27 10:45:00  ...        0 2015-10-27\n",
              "3              SVO     2015-10-27 12:30:00  ...        0 2015-10-27\n",
              "4              OTP     2015-10-27 14:15:00  ...        1 2015-10-27\n",
              "\n",
              "[5 rows x 12 columns]"
            ]
          },
          "metadata": {},
          "execution_count": 46
        }
      ]
    },
    {
      "cell_type": "code",
      "metadata": {
        "colab": {
          "base_uri": "https://localhost:8080/",
          "height": 202
        },
        "id": "Rq_WyirPVIq7",
        "outputId": "0a201e2f-2533-4970-b88c-436a695646d0"
      },
      "source": [
        "dep_airport = 'SVO'\n",
        "df2 = df[(df['Depature Airport'] == dep_airport) & (df['Delay'] > 0)]\n",
        "df2.sort_values('Scheduled depature time', inplace = True)\n",
        "df2.head()"
      ],
      "execution_count": 48,
      "outputs": [
        {
          "output_type": "execute_result",
          "data": {
            "text/html": [
              "<div>\n",
              "<style scoped>\n",
              "    .dataframe tbody tr th:only-of-type {\n",
              "        vertical-align: middle;\n",
              "    }\n",
              "\n",
              "    .dataframe tbody tr th {\n",
              "        vertical-align: top;\n",
              "    }\n",
              "\n",
              "    .dataframe thead th {\n",
              "        text-align: right;\n",
              "    }\n",
              "</style>\n",
              "<table border=\"1\" class=\"dataframe\">\n",
              "  <thead>\n",
              "    <tr style=\"text-align: right;\">\n",
              "      <th></th>\n",
              "      <th>Depature Airport</th>\n",
              "      <th>Scheduled depature time</th>\n",
              "      <th>Destination Airport</th>\n",
              "      <th>Scheduled arrival time</th>\n",
              "      <th>Delay</th>\n",
              "      <th>Duration</th>\n",
              "      <th>Year</th>\n",
              "      <th>Month</th>\n",
              "      <th>Day</th>\n",
              "      <th>Departure time</th>\n",
              "      <th>IS_delay</th>\n",
              "      <th>DATE</th>\n",
              "    </tr>\n",
              "  </thead>\n",
              "  <tbody>\n",
              "    <tr>\n",
              "      <th>1</th>\n",
              "      <td>SVO</td>\n",
              "      <td>2015-10-27 09:50:00</td>\n",
              "      <td>JFK</td>\n",
              "      <td>2015-10-27 20:35:00</td>\n",
              "      <td>2.0</td>\n",
              "      <td>645</td>\n",
              "      <td>2015</td>\n",
              "      <td>10</td>\n",
              "      <td>27</td>\n",
              "      <td>09:50:00</td>\n",
              "      <td>1</td>\n",
              "      <td>2015-10-27</td>\n",
              "    </tr>\n",
              "    <tr>\n",
              "      <th>12</th>\n",
              "      <td>SVO</td>\n",
              "      <td>2015-10-27 17:10:00</td>\n",
              "      <td>MRV</td>\n",
              "      <td>2015-10-27 19:25:00</td>\n",
              "      <td>14.0</td>\n",
              "      <td>135</td>\n",
              "      <td>2015</td>\n",
              "      <td>10</td>\n",
              "      <td>27</td>\n",
              "      <td>17:10:00</td>\n",
              "      <td>1</td>\n",
              "      <td>2015-10-27</td>\n",
              "    </tr>\n",
              "    <tr>\n",
              "      <th>26</th>\n",
              "      <td>SVO</td>\n",
              "      <td>2015-10-27 18:40:00</td>\n",
              "      <td>DXB</td>\n",
              "      <td>2015-10-28 00:25:00</td>\n",
              "      <td>2.0</td>\n",
              "      <td>345</td>\n",
              "      <td>2015</td>\n",
              "      <td>10</td>\n",
              "      <td>27</td>\n",
              "      <td>18:40:00</td>\n",
              "      <td>1</td>\n",
              "      <td>2015-10-27</td>\n",
              "    </tr>\n",
              "    <tr>\n",
              "      <th>29</th>\n",
              "      <td>SVO</td>\n",
              "      <td>2015-10-27 18:50:00</td>\n",
              "      <td>WAW</td>\n",
              "      <td>2015-10-27 21:00:00</td>\n",
              "      <td>8.0</td>\n",
              "      <td>130</td>\n",
              "      <td>2015</td>\n",
              "      <td>10</td>\n",
              "      <td>27</td>\n",
              "      <td>18:50:00</td>\n",
              "      <td>1</td>\n",
              "      <td>2015-10-27</td>\n",
              "    </tr>\n",
              "    <tr>\n",
              "      <th>106</th>\n",
              "      <td>SVO</td>\n",
              "      <td>2015-10-27 19:05:00</td>\n",
              "      <td>LED</td>\n",
              "      <td>2015-10-27 20:25:00</td>\n",
              "      <td>145.0</td>\n",
              "      <td>80</td>\n",
              "      <td>2015</td>\n",
              "      <td>10</td>\n",
              "      <td>27</td>\n",
              "      <td>19:05:00</td>\n",
              "      <td>1</td>\n",
              "      <td>2015-10-27</td>\n",
              "    </tr>\n",
              "  </tbody>\n",
              "</table>\n",
              "</div>"
            ],
            "text/plain": [
              "    Depature Airport Scheduled depature time  ... IS_delay       DATE\n",
              "1                SVO     2015-10-27 09:50:00  ...        1 2015-10-27\n",
              "12               SVO     2015-10-27 17:10:00  ...        1 2015-10-27\n",
              "26               SVO     2015-10-27 18:40:00  ...        1 2015-10-27\n",
              "29               SVO     2015-10-27 18:50:00  ...        1 2015-10-27\n",
              "106              SVO     2015-10-27 19:05:00  ...        1 2015-10-27\n",
              "\n",
              "[5 rows x 12 columns]"
            ]
          },
          "metadata": {},
          "execution_count": 48
        }
      ]
    },
    {
      "cell_type": "code",
      "metadata": {
        "id": "uzCFtkp4xBeZ"
      },
      "source": [
        ""
      ],
      "execution_count": null,
      "outputs": []
    },
    {
      "cell_type": "code",
      "metadata": {
        "colab": {
          "base_uri": "https://localhost:8080/",
          "height": 202
        },
        "id": "wKj5MzpXPxZh",
        "outputId": "8f8182fa-65fa-42bc-d3d9-f3d250832d3f"
      },
      "source": [
        "df2.head()"
      ],
      "execution_count": 589,
      "outputs": [
        {
          "output_type": "execute_result",
          "data": {
            "text/html": [
              "<div>\n",
              "<style scoped>\n",
              "    .dataframe tbody tr th:only-of-type {\n",
              "        vertical-align: middle;\n",
              "    }\n",
              "\n",
              "    .dataframe tbody tr th {\n",
              "        vertical-align: top;\n",
              "    }\n",
              "\n",
              "    .dataframe thead th {\n",
              "        text-align: right;\n",
              "    }\n",
              "</style>\n",
              "<table border=\"1\" class=\"dataframe\">\n",
              "  <thead>\n",
              "    <tr style=\"text-align: right;\">\n",
              "      <th></th>\n",
              "      <th>Depature Airport</th>\n",
              "      <th>Scheduled depature time</th>\n",
              "      <th>Destination Airport</th>\n",
              "      <th>Scheduled arrival time</th>\n",
              "      <th>Delay</th>\n",
              "      <th>Duration</th>\n",
              "      <th>Year</th>\n",
              "      <th>Month</th>\n",
              "      <th>Day</th>\n",
              "      <th>DEPARTURE_TIME</th>\n",
              "      <th>IS_delay</th>\n",
              "      <th>DATE</th>\n",
              "    </tr>\n",
              "  </thead>\n",
              "  <tbody>\n",
              "    <tr>\n",
              "      <th>1</th>\n",
              "      <td>144</td>\n",
              "      <td>2015-10-27 09:50:00</td>\n",
              "      <td>68</td>\n",
              "      <td>2015-10-27 20:35:00</td>\n",
              "      <td>2.0</td>\n",
              "      <td>645</td>\n",
              "      <td>2015</td>\n",
              "      <td>10</td>\n",
              "      <td>27</td>\n",
              "      <td>09:50:00</td>\n",
              "      <td>1</td>\n",
              "      <td>2015-10-27</td>\n",
              "    </tr>\n",
              "    <tr>\n",
              "      <th>12</th>\n",
              "      <td>144</td>\n",
              "      <td>2015-10-27 17:10:00</td>\n",
              "      <td>98</td>\n",
              "      <td>2015-10-27 19:25:00</td>\n",
              "      <td>14.0</td>\n",
              "      <td>135</td>\n",
              "      <td>2015</td>\n",
              "      <td>10</td>\n",
              "      <td>27</td>\n",
              "      <td>17:10:00</td>\n",
              "      <td>1</td>\n",
              "      <td>2015-10-27</td>\n",
              "    </tr>\n",
              "    <tr>\n",
              "      <th>26</th>\n",
              "      <td>144</td>\n",
              "      <td>2015-10-27 18:40:00</td>\n",
              "      <td>36</td>\n",
              "      <td>2015-10-28 00:25:00</td>\n",
              "      <td>2.0</td>\n",
              "      <td>345</td>\n",
              "      <td>2015</td>\n",
              "      <td>10</td>\n",
              "      <td>27</td>\n",
              "      <td>18:40:00</td>\n",
              "      <td>1</td>\n",
              "      <td>2015-10-27</td>\n",
              "    </tr>\n",
              "    <tr>\n",
              "      <th>29</th>\n",
              "      <td>144</td>\n",
              "      <td>2015-10-27 18:50:00</td>\n",
              "      <td>172</td>\n",
              "      <td>2015-10-27 21:00:00</td>\n",
              "      <td>8.0</td>\n",
              "      <td>130</td>\n",
              "      <td>2015</td>\n",
              "      <td>10</td>\n",
              "      <td>27</td>\n",
              "      <td>18:50:00</td>\n",
              "      <td>1</td>\n",
              "      <td>2015-10-27</td>\n",
              "    </tr>\n",
              "    <tr>\n",
              "      <th>106</th>\n",
              "      <td>144</td>\n",
              "      <td>2015-10-27 19:05:00</td>\n",
              "      <td>84</td>\n",
              "      <td>2015-10-27 20:25:00</td>\n",
              "      <td>145.0</td>\n",
              "      <td>80</td>\n",
              "      <td>2015</td>\n",
              "      <td>10</td>\n",
              "      <td>27</td>\n",
              "      <td>19:05:00</td>\n",
              "      <td>1</td>\n",
              "      <td>2015-10-27</td>\n",
              "    </tr>\n",
              "  </tbody>\n",
              "</table>\n",
              "</div>"
            ],
            "text/plain": [
              "     Depature Airport Scheduled depature time  Destination Airport  \\\n",
              "1                 144     2015-10-27 09:50:00                   68   \n",
              "12                144     2015-10-27 17:10:00                   98   \n",
              "26                144     2015-10-27 18:40:00                   36   \n",
              "29                144     2015-10-27 18:50:00                  172   \n",
              "106               144     2015-10-27 19:05:00                   84   \n",
              "\n",
              "    Scheduled arrival time  Delay  Duration  Year  Month  Day DEPARTURE_TIME  \\\n",
              "1      2015-10-27 20:35:00    2.0       645  2015     10   27       09:50:00   \n",
              "12     2015-10-27 19:25:00   14.0       135  2015     10   27       17:10:00   \n",
              "26     2015-10-28 00:25:00    2.0       345  2015     10   27       18:40:00   \n",
              "29     2015-10-27 21:00:00    8.0       130  2015     10   27       18:50:00   \n",
              "106    2015-10-27 20:25:00  145.0        80  2015     10   27       19:05:00   \n",
              "\n",
              "     IS_delay       DATE  \n",
              "1           1 2015-10-27  \n",
              "12          1 2015-10-27  \n",
              "26          1 2015-10-27  \n",
              "29          1 2015-10-27  \n",
              "106         1 2015-10-27  "
            ]
          },
          "metadata": {},
          "execution_count": 589
        }
      ]
    },
    {
      "cell_type": "code",
      "metadata": {
        "id": "2Zt2c7ShjNvq",
        "colab": {
          "base_uri": "https://localhost:8080/",
          "height": 752
        },
        "outputId": "e38012e7-58ee-48e6-8f9b-2155a35c1372"
      },
      "source": [
        "plt.figure(figsize=(12,12))\n",
        "plt.scatter(df2['Scheduled depature time'], df2['Delay'], label='initial data points')\n",
        "plt.title(\"Corelation between depart time and delay for SVO\")\n",
        "plt.xlabel('Departure time', fontsize = 14)\n",
        "plt.ylabel('Delay', fontsize = 14)"
      ],
      "execution_count": 56,
      "outputs": [
        {
          "output_type": "execute_result",
          "data": {
            "text/plain": [
              "Text(0, 0.5, 'Delay')"
            ]
          },
          "metadata": {},
          "execution_count": 56
        },
        {
          "output_type": "display_data",
          "data": {
            "image/png": "[encoded data removed]",
            "text/plain": [
              "<Figure size 864x864 with 1 Axes>"
            ]
          },
          "metadata": {
            "needs_background": "light"
          }
        }
      ]
    },
    {
      "cell_type": "code",
      "metadata": {
        "id": "pfc3coH624Fn"
      },
      "source": [
        "train = df.loc[(df['Year'] <= 2017) & (df['Year'] >=2015)]\n",
        "test = df.loc[df['Year'] == 2018]"
      ],
      "execution_count": 58,
      "outputs": []
    },
    {
      "cell_type": "code",
      "metadata": {
        "colab": {
          "base_uri": "https://localhost:8080/"
        },
        "id": "mL0p6uPijyQT",
        "outputId": "af07a6ad-80d2-4f5b-9653-3d77d74955f9"
      },
      "source": [
        "# get only categorical features\n",
        "cat_df_flights = train.select_dtypes(include=['object']).copy()\n",
        "cat_df_flights.head()\n",
        "print(cat_df_flights.columns.to_list())\n",
        "print(cat_df_flights.isnull().values.sum())\n",
        "print(cat_df_flights.isnull().sum())"
      ],
      "execution_count": 59,
      "outputs": [
        {
          "output_type": "stream",
          "name": "stdout",
          "text": [
            "['Departure time']\n",
            "0\n",
            "Departure time    0\n",
            "dtype: int64\n"
          ]
        }
      ]
    },
    {
      "cell_type": "code",
      "metadata": {
        "colab": {
          "base_uri": "https://localhost:8080/",
          "height": 202
        },
        "id": "kyH-C28a25gX",
        "outputId": "ca99269c-22cd-4a39-e4a6-fc0d430af033"
      },
      "source": [
        "train.head()"
      ],
      "execution_count": 60,
      "outputs": [
        {
          "output_type": "execute_result",
          "data": {
            "text/html": [
              "<div>\n",
              "<style scoped>\n",
              "    .dataframe tbody tr th:only-of-type {\n",
              "        vertical-align: middle;\n",
              "    }\n",
              "\n",
              "    .dataframe tbody tr th {\n",
              "        vertical-align: top;\n",
              "    }\n",
              "\n",
              "    .dataframe thead th {\n",
              "        text-align: right;\n",
              "    }\n",
              "</style>\n",
              "<table border=\"1\" class=\"dataframe\">\n",
              "  <thead>\n",
              "    <tr style=\"text-align: right;\">\n",
              "      <th></th>\n",
              "      <th>Depature Airport</th>\n",
              "      <th>Scheduled depature time</th>\n",
              "      <th>Destination Airport</th>\n",
              "      <th>Scheduled arrival time</th>\n",
              "      <th>Delay</th>\n",
              "      <th>Duration</th>\n",
              "      <th>Year</th>\n",
              "      <th>Month</th>\n",
              "      <th>Day</th>\n",
              "      <th>Departure time</th>\n",
              "      <th>IS_delay</th>\n",
              "      <th>DATE</th>\n",
              "    </tr>\n",
              "  </thead>\n",
              "  <tbody>\n",
              "    <tr>\n",
              "      <th>0</th>\n",
              "      <td>SVO</td>\n",
              "      <td>2015-10-27 07:40:00</td>\n",
              "      <td>HAV</td>\n",
              "      <td>2015-10-27 20:45:00</td>\n",
              "      <td>0.0</td>\n",
              "      <td>785</td>\n",
              "      <td>2015</td>\n",
              "      <td>10</td>\n",
              "      <td>27</td>\n",
              "      <td>07:40:00</td>\n",
              "      <td>0</td>\n",
              "      <td>2015-10-27</td>\n",
              "    </tr>\n",
              "    <tr>\n",
              "      <th>1</th>\n",
              "      <td>SVO</td>\n",
              "      <td>2015-10-27 09:50:00</td>\n",
              "      <td>JFK</td>\n",
              "      <td>2015-10-27 20:35:00</td>\n",
              "      <td>2.0</td>\n",
              "      <td>645</td>\n",
              "      <td>2015</td>\n",
              "      <td>10</td>\n",
              "      <td>27</td>\n",
              "      <td>09:50:00</td>\n",
              "      <td>1</td>\n",
              "      <td>2015-10-27</td>\n",
              "    </tr>\n",
              "    <tr>\n",
              "      <th>2</th>\n",
              "      <td>SVO</td>\n",
              "      <td>2015-10-27 10:45:00</td>\n",
              "      <td>MIA</td>\n",
              "      <td>2015-10-27 23:35:00</td>\n",
              "      <td>0.0</td>\n",
              "      <td>770</td>\n",
              "      <td>2015</td>\n",
              "      <td>10</td>\n",
              "      <td>27</td>\n",
              "      <td>10:45:00</td>\n",
              "      <td>0</td>\n",
              "      <td>2015-10-27</td>\n",
              "    </tr>\n",
              "    <tr>\n",
              "      <th>3</th>\n",
              "      <td>SVO</td>\n",
              "      <td>2015-10-27 12:30:00</td>\n",
              "      <td>LAX</td>\n",
              "      <td>2015-10-28 01:20:00</td>\n",
              "      <td>0.0</td>\n",
              "      <td>770</td>\n",
              "      <td>2015</td>\n",
              "      <td>10</td>\n",
              "      <td>27</td>\n",
              "      <td>12:30:00</td>\n",
              "      <td>0</td>\n",
              "      <td>2015-10-27</td>\n",
              "    </tr>\n",
              "    <tr>\n",
              "      <th>4</th>\n",
              "      <td>OTP</td>\n",
              "      <td>2015-10-27 14:15:00</td>\n",
              "      <td>SVO</td>\n",
              "      <td>2015-10-27 16:40:00</td>\n",
              "      <td>9.0</td>\n",
              "      <td>145</td>\n",
              "      <td>2015</td>\n",
              "      <td>10</td>\n",
              "      <td>27</td>\n",
              "      <td>14:15:00</td>\n",
              "      <td>1</td>\n",
              "      <td>2015-10-27</td>\n",
              "    </tr>\n",
              "  </tbody>\n",
              "</table>\n",
              "</div>"
            ],
            "text/plain": [
              "  Depature Airport Scheduled depature time  ... IS_delay       DATE\n",
              "0              SVO     2015-10-27 07:40:00  ...        0 2015-10-27\n",
              "1              SVO     2015-10-27 09:50:00  ...        1 2015-10-27\n",
              "2              SVO     2015-10-27 10:45:00  ...        0 2015-10-27\n",
              "3              SVO     2015-10-27 12:30:00  ...        0 2015-10-27\n",
              "4              OTP     2015-10-27 14:15:00  ...        1 2015-10-27\n",
              "\n",
              "[5 rows x 12 columns]"
            ]
          },
          "metadata": {},
          "execution_count": 60
        }
      ]
    },
    {
      "cell_type": "markdown",
      "metadata": {
        "id": "PJkpz0sF3IRe"
      },
      "source": [
        "**Remove outliers on delay**"
      ]
    },
    {
      "cell_type": "code",
      "metadata": {
        "id": "-tLgQjv6XQxE",
        "colab": {
          "base_uri": "https://localhost:8080/"
        },
        "outputId": "ed8d289a-12f8-47d1-a8ea-18f0fbfef890"
      },
      "source": [
        "# calculate m\n",
        "mean = train['Delay'].mean()\n",
        "print(mean)\n",
        "# calculate standard deviation\n",
        "sd = train['Delay'].std()\n",
        "# determine a threhold\n",
        "threshold = 2\n",
        "# detect outlier\n",
        "train['z_score'] = (train['Delay'] - mean)/sd\n",
        "\n",
        "train.loc[abs(train['z_score']) > threshold, 'z_score'] = None\n",
        "train = train.dropna()"
      ],
      "execution_count": 65,
      "outputs": [
        {
          "output_type": "stream",
          "name": "stdout",
          "text": [
            "6.398472499264249\n"
          ]
        }
      ]
    },
    {
      "cell_type": "code",
      "metadata": {
        "colab": {
          "base_uri": "https://localhost:8080/",
          "height": 141
        },
        "id": "fMAH3Aq_4UZu",
        "outputId": "5c54d01d-aa90-4a80-848e-0ab3359e8aff"
      },
      "source": [
        "df_info(train)"
      ],
      "execution_count": 66,
      "outputs": [
        {
          "output_type": "execute_result",
          "data": {
            "text/html": [
              "<div>\n",
              "<style scoped>\n",
              "    .dataframe tbody tr th:only-of-type {\n",
              "        vertical-align: middle;\n",
              "    }\n",
              "\n",
              "    .dataframe tbody tr th {\n",
              "        vertical-align: top;\n",
              "    }\n",
              "\n",
              "    .dataframe thead th {\n",
              "        text-align: right;\n",
              "    }\n",
              "</style>\n",
              "<table border=\"1\" class=\"dataframe\">\n",
              "  <thead>\n",
              "    <tr style=\"text-align: right;\">\n",
              "      <th></th>\n",
              "      <th>Depature Airport</th>\n",
              "      <th>Scheduled depature time</th>\n",
              "      <th>Destination Airport</th>\n",
              "      <th>Scheduled arrival time</th>\n",
              "      <th>Delay</th>\n",
              "      <th>Duration</th>\n",
              "      <th>Year</th>\n",
              "      <th>Month</th>\n",
              "      <th>Day</th>\n",
              "      <th>Departure time</th>\n",
              "      <th>IS_delay</th>\n",
              "      <th>DATE</th>\n",
              "      <th>z_score</th>\n",
              "    </tr>\n",
              "  </thead>\n",
              "  <tbody>\n",
              "    <tr>\n",
              "      <th>column type</th>\n",
              "      <td>category</td>\n",
              "      <td>datetime64[ns]</td>\n",
              "      <td>category</td>\n",
              "      <td>datetime64[ns]</td>\n",
              "      <td>float64</td>\n",
              "      <td>int64</td>\n",
              "      <td>int64</td>\n",
              "      <td>int64</td>\n",
              "      <td>int64</td>\n",
              "      <td>object</td>\n",
              "      <td>int64</td>\n",
              "      <td>datetime64[ns]</td>\n",
              "      <td>float64</td>\n",
              "    </tr>\n",
              "    <tr>\n",
              "      <th>null values (nb)</th>\n",
              "      <td>0</td>\n",
              "      <td>0</td>\n",
              "      <td>0</td>\n",
              "      <td>0</td>\n",
              "      <td>0</td>\n",
              "      <td>0</td>\n",
              "      <td>0</td>\n",
              "      <td>0</td>\n",
              "      <td>0</td>\n",
              "      <td>0</td>\n",
              "      <td>0</td>\n",
              "      <td>0</td>\n",
              "      <td>0</td>\n",
              "    </tr>\n",
              "    <tr>\n",
              "      <th>null values (%)</th>\n",
              "      <td>0</td>\n",
              "      <td>0</td>\n",
              "      <td>0</td>\n",
              "      <td>0</td>\n",
              "      <td>0</td>\n",
              "      <td>0</td>\n",
              "      <td>0</td>\n",
              "      <td>0</td>\n",
              "      <td>0</td>\n",
              "      <td>0</td>\n",
              "      <td>0</td>\n",
              "      <td>0</td>\n",
              "      <td>0</td>\n",
              "    </tr>\n",
              "  </tbody>\n",
              "</table>\n",
              "</div>"
            ],
            "text/plain": [
              "                 Depature Airport  ...  z_score\n",
              "column type              category  ...  float64\n",
              "null values (nb)                0  ...        0\n",
              "null values (%)                 0  ...        0\n",
              "\n",
              "[3 rows x 13 columns]"
            ]
          },
          "metadata": {},
          "execution_count": 66
        }
      ]
    },
    {
      "cell_type": "code",
      "metadata": {
        "colab": {
          "base_uri": "https://localhost:8080/",
          "height": 532
        },
        "id": "rXTs1x-669N8",
        "outputId": "52b6499d-91e5-407f-cd46-fd38ef3d10a0"
      },
      "source": [
        "# visualize the relationship between the features and the response using scatterplots\n",
        "pp = sns.pairplot(train, x_vars=['Duration'], y_vars='Delay', size=7, aspect=0.7)\n",
        "pp.fig.suptitle(\"Correlation between Duration and Delay\")"
      ],
      "execution_count": 68,
      "outputs": [
        {
          "output_type": "execute_result",
          "data": {
            "text/plain": [
              "Text(0.5, 0.98, 'Correlation between Duration and Delay')"
            ]
          },
          "metadata": {},
          "execution_count": 68
        },
        {
          "output_type": "display_data",
          "data": {
            "image/png": "[encoded data removed]",
            "text/plain": [
              "<Figure size 352.8x504 with 1 Axes>"
            ]
          },
          "metadata": {
            "needs_background": "light"
          }
        }
      ]
    },
    {
      "cell_type": "code",
      "metadata": {
        "id": "_lDJPeiNPaBV"
      },
      "source": [
        "from sklearn.linear_model import LinearRegression"
      ],
      "execution_count": 69,
      "outputs": []
    },
    {
      "cell_type": "code",
      "metadata": {
        "colab": {
          "base_uri": "https://localhost:8080/"
        },
        "id": "-10UL3cf5Efb",
        "outputId": "70a7e021-0875-4e59-f35a-de3c00029003"
      },
      "source": [
        "lm = linear_model.LinearRegression()\n",
        "model = lm.fit(train['Duration'].to_numpy().reshape(-1, 1), train['Delay'])\n",
        "predictions = lm.predict(train['Duration'].to_numpy().reshape(-1, 1))\n",
        "print(\"MSE_train =\", metrics.mean_squared_error(predictions, train['Delay']))"
      ],
      "execution_count": 86,
      "outputs": [
        {
          "output_type": "stream",
          "name": "stdout",
          "text": [
            "MSE_train = 44.968572850783\n"
          ]
        }
      ]
    },
    {
      "cell_type": "code",
      "metadata": {
        "colab": {
          "base_uri": "https://localhost:8080/"
        },
        "id": "isxhyr7m6vjv",
        "outputId": "79a8cbdc-e7cd-4668-e6c1-14ed8eaef02a"
      },
      "source": [
        "lm = linear_model.LinearRegression()\n",
        "model = lm.fit(train['Duration'].to_numpy().reshape(-1, 1), train['Delay'])\n",
        "predictions = lm.predict(test['Duration'].to_numpy().reshape(-1, 1))\n",
        "print(\"MSE_test =\", metrics.mean_squared_error(predictions, test['Delay']))"
      ],
      "execution_count": 87,
      "outputs": [
        {
          "output_type": "stream",
          "name": "stdout",
          "text": [
            "MSE_test = 1606.5331876267144\n"
          ]
        }
      ]
    },
    {
      "cell_type": "code",
      "metadata": {
        "id": "9ujOYx6ZATS1"
      },
      "source": [
        "from sklearn.metrics import accuracy_score\n",
        "from sklearn.metrics import f1_score"
      ],
      "execution_count": 84,
      "outputs": []
    },
    {
      "cell_type": "code",
      "metadata": {
        "colab": {
          "base_uri": "https://localhost:8080/"
        },
        "id": "nB9cAEozATGL",
        "outputId": "aa5028f9-ca41-461a-b605-db49cb30e8c4"
      },
      "source": [
        "y_pred = pd.DataFrame(data=predictions).astype('int64')\n",
        "df_info(y_pred)\n",
        "print(f\"Accuracy score: {accuracy_score(test['Duration'], y_pred=y_pred)}\")"
      ],
      "execution_count": 89,
      "outputs": [
        {
          "output_type": "stream",
          "name": "stdout",
          "text": [
            "Accuracy score: 0.0\n"
          ]
        }
      ]
    },
    {
      "cell_type": "code",
      "metadata": {
        "colab": {
          "base_uri": "https://localhost:8080/"
        },
        "id": "UawTrZBzXyT4",
        "outputId": "51c97620-5f4a-42b4-c7cf-f67b235481c8"
      },
      "source": [
        "poly = PolynomialFeatures(degree = 4)\n",
        "regr = linear_model.LinearRegression()\n",
        "X_ = poly.fit_transform(train['Duration'].to_numpy().reshape(-1, 1))\n",
        "regr.fit(X_, train['Delay'])\n",
        "result = regr.predict(X_)\n",
        "print(\"MSE_train =\", metrics.mean_squared_error(result, train['Delay']))"
      ],
      "execution_count": 100,
      "outputs": [
        {
          "output_type": "stream",
          "name": "stdout",
          "text": [
            "MSE_train = 44.94298288713152\n"
          ]
        }
      ]
    },
    {
      "cell_type": "code",
      "metadata": {
        "colab": {
          "base_uri": "https://localhost:8080/",
          "height": 458
        },
        "id": "JuPFif1hYPSg",
        "outputId": "a0146ddb-44cb-40a6-a0e3-6d3400963c2f"
      },
      "source": [
        "tips = pd.DataFrame()\n",
        "tips[\"prediction\"] = pd.Series([float(s) for s in result]) \n",
        "tips[\"original_data\"] = pd.Series([float(s) for s in train['Delay']]) \n",
        "sns.jointplot(x=\"original_data\", y=\"prediction\", data=tips, size = 6, ratio = 7,\n",
        "              joint_kws={'line_kws':{'color':'limegreen'}}, kind='reg')\n",
        "plt.xlabel('Mean delays (min)', fontsize = 15)\n",
        "plt.ylabel('Predictions (min)', fontsize = 15)\n",
        "plt.plot(list(range(-10,25)), list(range(-10,25)), linestyle = ':', color = 'r')"
      ],
      "execution_count": 102,
      "outputs": [
        {
          "output_type": "execute_result",
          "data": {
            "text/plain": [
              "[<matplotlib.lines.Line2D at 0x7f36107d95d0>]"
            ]
          },
          "metadata": {},
          "execution_count": 102
        },
        {
          "output_type": "display_data",
          "data": {
            "image/png": "[encoded data removed]",
            "text/plain": [
              "<Figure size 432x432 with 3 Axes>"
            ]
          },
          "metadata": {
            "needs_background": "light"
          }
        }
      ]
    },
    {
      "cell_type": "code",
      "metadata": {
        "colab": {
          "base_uri": "https://localhost:8080/"
        },
        "id": "IzsDNd1rYQB2",
        "outputId": "5f815972-2aba-41de-d770-709292c12607"
      },
      "source": [
        "X_ = poly.fit_transform(test['Duration'].to_numpy().reshape(-1, 1))\n",
        "result = regr.predict(X_)\n",
        "score = metrics.mean_squared_error(result, test['Delay'])\n",
        "print(\"Mean squared error = \", score)"
      ],
      "execution_count": 104,
      "outputs": [
        {
          "output_type": "stream",
          "name": "stdout",
          "text": [
            "Mean squared error =  1606.3847413592114\n"
          ]
        }
      ]
    },
    {
      "cell_type": "code",
      "metadata": {
        "colab": {
          "base_uri": "https://localhost:8080/"
        },
        "id": "eAPLOfFiCo2m",
        "outputId": "df2415e6-b22e-4287-fdeb-87d85e833a74"
      },
      "source": [
        "zero_delay_test_dataset = (test['Delay']==0).sum()\n",
        "print(zero_delay_test_dataset)\n",
        "print(f\"% of zero delays in dataset: {zero_delay_test_dataset/test.shape[0]*100})\")"
      ],
      "execution_count": 107,
      "outputs": [
        {
          "output_type": "stream",
          "name": "stdout",
          "text": [
            "140466\n",
            "% of zero delays in dataset: 79.60623629222844)\n"
          ]
        }
      ]
    },
    {
      "cell_type": "code",
      "metadata": {
        "colab": {
          "base_uri": "https://localhost:8080/"
        },
        "id": "gmhDpuOREd1B",
        "outputId": "2e9805b7-8b85-4ae4-f6a2-826f40b152a9"
      },
      "source": [
        "from sklearn.linear_model import Ridge\n",
        "ridgereg = Ridge(alpha=0.3,normalize=True)\n",
        "poly = PolynomialFeatures(degree = 4)\n",
        "X_ = poly.fit_transform(train['Duration'].to_numpy().reshape(-1, 1))\n",
        "ridgereg.fit(X_, train['Delay'])"
      ],
      "execution_count": 112,
      "outputs": [
        {
          "output_type": "execute_result",
          "data": {
            "text/plain": [
              "Ridge(alpha=0.3, copy_X=True, fit_intercept=True, max_iter=None, normalize=True,\n",
              "      random_state=None, solver='auto', tol=0.001)"
            ]
          },
          "metadata": {},
          "execution_count": 112
        }
      ]
    },
    {
      "cell_type": "code",
      "metadata": {
        "colab": {
          "base_uri": "https://localhost:8080/"
        },
        "id": "stgqGoN0G1eQ",
        "outputId": "b721a907-b074-4e11-fd88-2f81d10d82b0"
      },
      "source": [
        "X_ = poly.fit_transform(test['Duration'].to_numpy().reshape(-1, 1))\n",
        "result = ridgereg.predict(X_)\n",
        "score = metrics.mean_squared_error(result, test['Delay'])\n",
        "print(\"Mean squared error withy regurilization = \", score)\n",
        "print(f\"R2 score{r2_score(test['Delay'], result)}\")"
      ],
      "execution_count": 123,
      "outputs": [
        {
          "output_type": "stream",
          "name": "stdout",
          "text": [
            "Mean squared error withy regurilization =  1607.6429364168957\n",
            "R2 score-0.003039297208794256\n"
          ]
        }
      ]
    },
    {
      "cell_type": "code",
      "metadata": {
        "colab": {
          "base_uri": "https://localhost:8080/"
        },
        "id": "SOLkOFFUI0RS",
        "outputId": "2356dc19-d6ff-4bb6-bd1f-a11b44f85120"
      },
      "source": [
        "score_min = 10000\n",
        "for pol_order in range(1, 4):\n",
        "    for alpha in range(0, 20, 2):\n",
        "        ridgereg = Ridge(alpha = alpha/10, normalize=True)\n",
        "        poly = PolynomialFeatures(degree = pol_order)\n",
        "        regr = linear_model.LinearRegression()\n",
        "        X_ = poly.fit_transform(train['Duration'].to_numpy().reshape(-1, 1))\n",
        "        ridgereg.fit(X_, train['Delay'])        \n",
        "        X_ = poly.fit_transform(test['Duration'].to_numpy().reshape(-1, 1))\n",
        "        result = ridgereg.predict(X_)\n",
        "        score = metrics.mean_squared_error(result, test['Delay'])        \n",
        "        if score < score_min:\n",
        "            score_min = score\n",
        "            parameters = [alpha/10, pol_order]\n",
        "        print(\"n = {} alpha = {} , MSE = {:<0.5}\".format(pol_order, alpha, score))"
      ],
      "execution_count": 117,
      "outputs": [
        {
          "output_type": "stream",
          "name": "stdout",
          "text": [
            "n = 1 alpha = 0 , MSE = 1606.5\n",
            "n = 1 alpha = 2 , MSE = 1607.0\n",
            "n = 1 alpha = 4 , MSE = 1607.3\n",
            "n = 1 alpha = 6 , MSE = 1607.6\n",
            "n = 1 alpha = 8 , MSE = 1607.8\n",
            "n = 1 alpha = 10 , MSE = 1608.0\n",
            "n = 1 alpha = 12 , MSE = 1608.1\n",
            "n = 1 alpha = 14 , MSE = 1608.2\n",
            "n = 1 alpha = 16 , MSE = 1608.3\n",
            "n = 1 alpha = 18 , MSE = 1608.4\n",
            "n = 2 alpha = 0 , MSE = 1606.6\n",
            "n = 2 alpha = 2 , MSE = 1606.7\n",
            "n = 2 alpha = 4 , MSE = 1606.9\n",
            "n = 2 alpha = 6 , MSE = 1607.1\n",
            "n = 2 alpha = 8 , MSE = 1607.3\n",
            "n = 2 alpha = 10 , MSE = 1607.4\n",
            "n = 2 alpha = 12 , MSE = 1607.5\n",
            "n = 2 alpha = 14 , MSE = 1607.7\n",
            "n = 2 alpha = 16 , MSE = 1607.8\n",
            "n = 2 alpha = 18 , MSE = 1607.9\n",
            "n = 3 alpha = 0 , MSE = 1606.4\n",
            "n = 3 alpha = 2 , MSE = 1606.7\n",
            "n = 3 alpha = 4 , MSE = 1606.9\n",
            "n = 3 alpha = 6 , MSE = 1607.0\n",
            "n = 3 alpha = 8 , MSE = 1607.1\n",
            "n = 3 alpha = 10 , MSE = 1607.3\n",
            "n = 3 alpha = 12 , MSE = 1607.4\n",
            "n = 3 alpha = 14 , MSE = 1607.5\n",
            "n = 3 alpha = 16 , MSE = 1607.6\n",
            "n = 3 alpha = 18 , MSE = 1607.6\n"
          ]
        }
      ]
    },
    {
      "cell_type": "code",
      "metadata": {
        "colab": {
          "base_uri": "https://localhost:8080/"
        },
        "id": "4-2ZPausJKIU",
        "outputId": "7beea828-8149-40be-f18c-f94765cd3354"
      },
      "source": [
        "from sklearn.linear_model import LogisticRegression\n",
        "\n",
        "logistic_reg = LogisticRegression(penalty='l1', solver='saga')\n",
        "logistic_reg.fit(train['Duration'].to_numpy().reshape(-1, 1), train['Delay'])\n",
        "\n",
        "predictions = logistic_reg.predict(train['Duration'].to_numpy().reshape(-1, 1))\n",
        "\n",
        "score = metrics.mean_squared_error(train['Duration'], predictions)\n",
        "\n",
        "print(\"Mean squared error withy regurilization = \", score)"
      ],
      "execution_count": 120,
      "outputs": [
        {
          "output_type": "stream",
          "name": "stdout",
          "text": [
            "Mean squared error withy regurilization =  52370.75638957563\n"
          ]
        }
      ]
    },
    {
      "cell_type": "code",
      "metadata": {
        "id": "u-AdlFbPKvd2"
      },
      "source": [
        ""
      ],
      "execution_count": null,
      "outputs": []
    }
  ]
}